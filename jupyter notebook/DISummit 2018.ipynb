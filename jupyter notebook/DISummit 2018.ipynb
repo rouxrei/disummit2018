{
 "cells": [
  {
   "cell_type": "markdown",
   "metadata": {},
   "source": [
    "# DISummit 2018 - Introduction to Texmining\n",
    "Provided by [XploData](https://www.xplodata.be/)"
   ]
  },
  {
   "cell_type": "markdown",
   "metadata": {},
   "source": [
    "## Extracting text from a PDF\n",
    "[PyPDF2](https://pypi.org/project/PyPDF2/)\n"
   ]
  },
  {
   "cell_type": "code",
   "execution_count": 11,
   "metadata": {},
   "outputs": [
    {
     "name": "stdout",
     "output_type": "stream",
     "text": [
      "6\n",
      "\n",
      "6Tanzania HIV Impact Survey (THIS) is part of the \n",
      "Population Based HIV Impact Assessment (PHIA) Project \n",
      "which is a multi-country project funded by PEPFAR to \n",
      "conduct national HIV-focused surveys that describe the \n",
      "status of the HIV epidemic. Results will measure important \n",
      "national and regional HIV-related parameters, including \n",
      "progress toward 90-90-90 goals, and will guide policy \n",
      "and funding priorities. ICAP at Columbia University is \n",
      "implementing the PHIA Project in close collaboration with \n",
      "CDC and other partners.\n",
      " See phia.icap.columbia.edu for more details. \n",
      "This project is supported by the U.S. PresidentÕs Emergency Plan for AIDS Relief (PEPFAR) through CDC under the terms of cooperative agreement \n",
      "#U2GGH001226. The Þndings and conclusions in this report are those of the authors and do not necessarily represent the ofÞcial position of the funding \n",
      "agencies. The results presented should be considered preliminary and they are subject to change.\n",
      "The mark ÒCDCÓ is owned by the US Dept. of Health and Human Services and is used with permission. Use of this logo is not an endorsement by HHS or CDC of any particular product, service, or enterprise.\n",
      "\n"
     ]
    }
   ],
   "source": [
    "import PyPDF2\n",
    "\n",
    "# creating an object \n",
    "file = open(r'..\\data\\input_pdf\\Tanzania_SummarySheet_English.pdf', 'rb')\n",
    "\n",
    "# creating a pdf reader object\n",
    "fileReader = PyPDF2.PdfFileReader(file)\n",
    "\n",
    "# print the number of pages in pdf file\n",
    "print(fileReader.numPages)\n",
    "print()\n",
    "\n",
    "# print text on last page\n",
    "print(fileReader.pages[-1].extractText())\n",
    "\n",
    "# close the file-stream\n",
    "file.close()\n"
   ]
  },
  {
   "cell_type": "markdown",
   "metadata": {},
   "source": [
    "[PDFTOTEXT](http://www.xpdfreader.com/)"
   ]
  },
  {
   "cell_type": "code",
   "execution_count": 33,
   "metadata": {},
   "outputs": [
    {
     "name": "stdout",
     "output_type": "stream",
     "text": [
      "<_io.TextIOWrapper name='..\\\\output\\\\output_txt\\\\Tanzania_SummarySheet_English.txt' mode='r' encoding='cp1252'>\n"
     ]
    }
   ],
   "source": [
    "import subprocess\n",
    "\n",
    "# define file paths\n",
    "in_file = r'..\\data\\input_pdf\\Tanzania_SummarySheet_English.pdf'\n",
    "out_file = r'..\\output\\output_txt\\utf8_encoded.txt'\n",
    "\n",
    "# make and execute command to convert to txt\n",
    "pdf_txt_command = [\"pdftotext\", \"-enc\", \"UTF-8\", in_file, out_file]\n",
    "subprocess.run(pdf_txt_command, shell=True)"
   ]
  },
  {
   "cell_type": "code",
   "execution_count": 41,
   "metadata": {},
   "outputs": [
    {
     "name": "stdout",
     "output_type": "stream",
     "text": [
      " important national and regional HIV-related parameters, including progress toward 90-90-90 goals, and will guide policy and funding priorities. ICAP at Columbia University is implementing the PHIA Project in close collaboration with CDC and other partners. See phia.icap.columbia.edu for more details.\n",
      "The mark “CDC” is owned by the US Dept. of Health and Human Services and is used with permission. Use of this logo is not an endorsement by HHS or CDC of any particular product, service, or enterprise. This project is supported by the U.S. President’s Emergency Plan for AIDS Relief (PEPFAR) through CDC under the terms of cooperative agreement #U2GGH001226. The ﬁndings and conclusions in this report are those of the authors and do not necessarily represent the ofﬁcial position of the funding agencies. The results presented should be considered preliminary and they are subject to change.\n",
      "6\n",
      "\n",
      "\f",
      "\n"
     ]
    }
   ],
   "source": [
    "with open(out_file, mode='rt', encoding='utf-8') as txt_file:\n",
    "    print(txt_file.read()[-900:])"
   ]
  },
  {
   "cell_type": "code",
   "execution_count": 42,
   "metadata": {},
   "outputs": [
    {
     "data": {
      "text/plain": [
       "CompletedProcess(args=['pdftotext', '..\\\\data\\\\input_pdf\\\\Tanzania_SummarySheet_English.pdf', '..\\\\output\\\\output_txt\\\\guess_encoding.txt'], returncode=0)"
      ]
     },
     "execution_count": 42,
     "metadata": {},
     "output_type": "execute_result"
    }
   ],
   "source": [
    "# define file paths\n",
    "in_file = r'..\\data\\input_pdf\\Tanzania_SummarySheet_English.pdf'\n",
    "out_file = r'..\\output\\output_txt\\guess_encoding.txt'\n",
    "\n",
    "# make and execute command to convert to txt\n",
    "pdf_txt_command = [\"pdftotext\", in_file, out_file]\n",
    "subprocess.run(pdf_txt_command, shell=True)"
   ]
  },
  {
   "cell_type": "code",
   "execution_count": 45,
   "metadata": {},
   "outputs": [
    {
     "name": "stdout",
     "output_type": "stream",
     "text": [
      "{'encoding': 'ISO-8859-1', 'confidence': 0.73, 'language': ''}\n"
     ]
    }
   ],
   "source": [
    "import chardet\n",
    "\n",
    "# read file as bytes\n",
    "with open(out_file, mode='rb') as byte_file:\n",
    "    raw_input = byte_file.read()\n",
    "\n",
    "# guess encoding\n",
    "encodings = chardet.detect(raw_input)\n",
    "print(encodings)"
   ]
  },
  {
   "cell_type": "code",
   "execution_count": 46,
   "metadata": {},
   "outputs": [
    {
     "name": "stdout",
     "output_type": "stream",
     "text": [
      "tant national and regional HIV-related parameters, including progress toward 90-90-90 goals, and will guide policy and funding priorities. ICAP at Columbia University is implementing the PHIA Project in close collaboration with CDC and other partners. See phia.icap.columbia.edu for more details.\r\n",
      "The mark \"CDC\" is owned by the US Dept. of Health and Human Services and is used with permission. Use of this logo is not an endorsement by HHS or CDC of any particular product, service, or enterprise. This project is supported by the U.S. President's Emergency Plan for AIDS Relief (PEPFAR) through CDC under the terms of cooperative agreement #U2GGH001226. The findings and conclusions in this report are those of the authors and do not necessarily represent the official position of the funding agencies. The results presented should be considered preliminary and they are subject to change.\r\n",
      "6\r\n",
      "\r\n",
      "\f",
      "\n"
     ]
    }
   ],
   "source": [
    "# decode bytes to string\n",
    "# more info on codecs: https://docs.python.org/3/library/codecs.html#standard-encodings\n",
    "print(raw_input.decode('8859')[-900:])"
   ]
  },
  {
   "cell_type": "markdown",
   "metadata": {},
   "source": [
    "## Extracting images from a PDF"
   ]
  },
  {
   "cell_type": "code",
   "execution_count": 48,
   "metadata": {},
   "outputs": [],
   "source": [
    "# define file paths\n",
    "in_file = r'..\\data\\input_pdf\\Tanzania_SummarySheet_English.pdf'\n",
    "images = r'..\\output\\output_img'\n",
    "\n",
    "# extract images\n",
    "pdf_img_command = [\"pdfimages\", \"-j\", in_file, images + r'\\img']\n",
    "subprocess.run(pdf_img_command, shell=True)\n",
    "\n",
    "# convert to jpg\n",
    "for filename in os.listdir(images):\n",
    "    if filename[-4:] == '.ppm':\n",
    "        ppm_in = os.path.join(images, filename)\n",
    "        jpg_out = os.path.join(images, filename[:-4] + '.jpg')\n",
    "        convert_command = [\"convert.exe\", ppm_in, jpg_out]\n",
    "        subprocess.check_output(convert_command, shell=True)"
   ]
  }
 ],
 "metadata": {
  "kernelspec": {
   "display_name": "Python 3",
   "language": "python",
   "name": "python3"
  },
  "language_info": {
   "codemirror_mode": {
    "name": "ipython",
    "version": 3
   },
   "file_extension": ".py",
   "mimetype": "text/x-python",
   "name": "python",
   "nbconvert_exporter": "python",
   "pygments_lexer": "ipython3",
   "version": "3.6.3"
  }
 },
 "nbformat": 4,
 "nbformat_minor": 2
}
